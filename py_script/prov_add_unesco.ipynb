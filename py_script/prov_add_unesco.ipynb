{
 "cells": [
  {
   "cell_type": "code",
   "execution_count": 2,
   "metadata": {},
   "outputs": [],
   "source": [
    "import pandas as pd\n",
    "\n",
    "csv_file = '/Users/davidbellaiche/PycharmProjects/chatgptapi/paris_activities_high_touristic.csv'\n",
    "df = pd.read_csv(csv_file)\n",
    "\n",
    "unesco_file = '/Users/davidbellaiche/PycharmProjects/chatgptapi/Paris_Places_with_UNESCO_Info.csv'\n",
    "unesco_df = pd.read_csv(unesco_file)\n",
    "\n"
   ]
  },
  {
   "cell_type": "code",
   "execution_count": 8,
   "metadata": {},
   "outputs": [],
   "source": [
    "new_df = df.merge(unesco_df, how=\"left\", on=\"name\")"
   ]
  },
  {
   "cell_type": "code",
   "execution_count": 9,
   "metadata": {},
   "outputs": [],
   "source": [
    "\n",
    "\n",
    "new_df.to_csv('/Users/davidbellaiche/PycharmProjects/chatgptapi/paris_activities_high_touristic.csv', index=False, encoding='utf-8-sig')"
   ]
  },
  {
   "cell_type": "code",
   "execution_count": null,
   "metadata": {},
   "outputs": [],
   "source": []
  }
 ],
 "metadata": {
  "kernelspec": {
   "display_name": "myvirtualenv",
   "language": "python",
   "name": "python3"
  },
  "language_info": {
   "codemirror_mode": {
    "name": "ipython",
    "version": 3
   },
   "file_extension": ".py",
   "mimetype": "text/x-python",
   "name": "python",
   "nbconvert_exporter": "python",
   "pygments_lexer": "ipython3",
   "version": "3.12.5"
  }
 },
 "nbformat": 4,
 "nbformat_minor": 2
}
