{
 "cells": [
  {
   "cell_type": "code",
   "execution_count": 12,
   "metadata": {},
   "outputs": [
    {
     "data": {
      "text/plain": [
       "'\\n# Charger les variables d\\'environnement\\nload_dotenv()\\napi_key = os.getenv(\\'MISTRAL_API_KEY\\')\\n\\n# Charger le texte\\nloader = TextLoader(\"raw_text_bolivie.txt\")\\ndocs = loader.load()\\n'"
      ]
     },
     "execution_count": 12,
     "metadata": {},
     "output_type": "execute_result"
    }
   ],
   "source": [
    "from langchain_community.document_loaders import TextLoader\n",
    "from langchain_mistralai.embeddings import MistralAIEmbeddings\n",
    "from langchain_community.vectorstores import FAISS\n",
    "from langchain.text_splitter import RecursiveCharacterTextSplitter\n",
    "from langchain.chains.combine_documents import create_stuff_documents_chain\n",
    "from langchain_core.prompts import ChatPromptTemplate\n",
    "from langchain.chains import create_retrieval_chain\n",
    "from mistralai import Mistral\n",
    "from dotenv import load_dotenv\n",
    "import os\n",
    "\n",
    "from langchain.document_loaders import PyPDFLoader\n",
    "loader = PyPDFLoader(\"lonely_bolivia.pdf\")\n",
    "pages = loader.load()\n",
    "\n",
    "len(pages)\n",
    "\"\"\"\n",
    "# Charger les variables d'environnement\n",
    "load_dotenv()\n",
    "api_key = os.getenv('MISTRAL_API_KEY')\n",
    "\n",
    "# Charger le texte\n",
    "loader = TextLoader(\"raw_text_bolivie.txt\")\n",
    "docs = loader.load()\n",
    "\"\"\""
   ]
  },
  {
   "cell_type": "code",
   "execution_count": 13,
   "metadata": {},
   "outputs": [
    {
     "data": {
      "text/plain": [
       "824"
      ]
     },
     "execution_count": 13,
     "metadata": {},
     "output_type": "execute_result"
    }
   ],
   "source": [
    "len(pages)"
   ]
  },
  {
   "cell_type": "code",
   "execution_count": 60,
   "metadata": {},
   "outputs": [],
   "source": [
    "page = pages[5:250]"
   ]
  },
  {
   "cell_type": "code",
   "execution_count": 34,
   "metadata": {},
   "outputs": [
    {
     "data": {
      "text/plain": [
       "'Two W eeks \\nThe Cordilleras & Yungas\\nTrapped between the heights of the Andes and the Amazon, this fascinating\\narea is a wonderland for trekkers, climbers, hikers and bikers. Getting here is\\nhalf the fun. T rekkers can start from outside La Paz , traveling by foot via\\nthe T akesi or Choro treks into the heart of the Y ungas. Y ou can also get into\\nthe southern Y ungas on a butt-busting daylong mountain-bike ride down the\\nWorld’ s Most Dangerous Road. Be sure to spend a few days at the end of\\nyour descent in the pleasant Y ungas villages of Coroico or Chulumani ,\\nwhich of fer plenty of day hikes, swimming and a chilled-out traveler vibe.\\nFrom there, it’ s back to the capital (or via a tough circuitous jungle route) for\\nclimbing and trekking in the Cordillera Real , stopping in the cool-air , soft-\\nspirited Andean town of Sorata . Adventurers could take on any number of\\ntreks from Sorata, good mountain-bike adventures or head up to the\\nglaciated peaks of the Cordillera. Then, if you have the time, you could\\nextend this trip to the seldom- explored Cordillera Apolobamba  for visits\\nto lost tribes or wildcat miners and loads of deep wilderness trekking.\\nOtherwise, think about linking from Sorata by land or boat north into the\\nAmazon Basin.\\nThree W eeks \\nSoutheast Bolivia\\nThis trip will get you away from the main tourist track and into Bolivia’ s\\nwarm southern comforts. Along the way , there are a few trekking options,\\ninteresting cultural centers and ener getic cityscapes. Start with a few days of\\npartying in Santa Cruz , Bolivia’ s second-lar gest city . It’s great fun just\\nwandering around the streets as you dive into camba  (lowlands) culture.\\nThen make your way out of the city for a weeklong dusty adventure through\\nthe Jesuit Missions Cir cuit, a series of beautiful mission villages where\\nbaroque music and faith meld with the chilled-out culture of the Guaraní,\\nwhich is punctuated by contented smiles, simple connection with the land\\nand unique cultural experiences. Cruise back through Santa Cruz on your\\nway to the pre-Inca ruins at Samaipata  and tip-top wildlife watching at the\\nParque Nacional & Ár ea de Uso Múltiple Amboró . From the park'"
      ]
     },
     "execution_count": 34,
     "metadata": {},
     "output_type": "execute_result"
    }
   ],
   "source": [
    "page.page_content"
   ]
  },
  {
   "cell_type": "code",
   "execution_count": 21,
   "metadata": {},
   "outputs": [
    {
     "name": "stdout",
     "output_type": "stream",
     "text": [
      "Two W eeks \n",
      "The Cordilleras & Yungas\n",
      "Trapped between the heights of the Andes and the Amazon, this fascinating\n",
      "area is a wonderland for trekkers, climbers, hikers and bikers. Getting here is\n",
      "half the fun. T rekkers can start from outside La Paz , traveling by foot via\n",
      "the T akesi or Choro treks into the heart of the Y ungas. Y ou can also get into\n",
      "the southern Y ungas on a butt-busting daylong mountain-bike ride down the\n",
      "World’ s Most Dangerous Road. Be sure to spend a few days at the end of\n",
      "you\n"
     ]
    }
   ],
   "source": [
    "print(page.page_content[0:500])"
   ]
  },
  {
   "cell_type": "code",
   "execution_count": 25,
   "metadata": {},
   "outputs": [
    {
     "data": {
      "text/plain": [
       "Document(metadata={'source': 'lonely_bolivia.pdf', 'page': 51}, page_content='Two W eeks \\nThe Cordilleras & Yungas\\nTrapped between the heights of the Andes and the Amazon, this fascinating\\narea is a wonderland for trekkers, climbers, hikers and bikers. Getting here is\\nhalf the fun. T rekkers can start from outside La Paz , traveling by foot via\\nthe T akesi or Choro treks into the heart of the Y ungas. Y ou can also get into\\nthe southern Y ungas on a butt-busting daylong mountain-bike ride down the\\nWorld’ s Most Dangerous Road. Be sure to spend a few days at the end of\\nyour descent in the pleasant Y ungas villages of Coroico or Chulumani ,\\nwhich of fer plenty of day hikes, swimming and a chilled-out traveler vibe.\\nFrom there, it’ s back to the capital (or via a tough circuitous jungle route) for\\nclimbing and trekking in the Cordillera Real , stopping in the cool-air , soft-\\nspirited Andean town of Sorata . Adventurers could take on any number of\\ntreks from Sorata, good mountain-bike adventures or head up to the\\nglaciated peaks of the Cordillera. Then, if you have the time, you could\\nextend this trip to the seldom- explored Cordillera Apolobamba  for visits\\nto lost tribes or wildcat miners and loads of deep wilderness trekking.\\nOtherwise, think about linking from Sorata by land or boat north into the\\nAmazon Basin.\\nThree W eeks \\nSoutheast Bolivia\\nThis trip will get you away from the main tourist track and into Bolivia’ s\\nwarm southern comforts. Along the way , there are a few trekking options,\\ninteresting cultural centers and ener getic cityscapes. Start with a few days of\\npartying in Santa Cruz , Bolivia’ s second-lar gest city . It’s great fun just\\nwandering around the streets as you dive into camba  (lowlands) culture.\\nThen make your way out of the city for a weeklong dusty adventure through\\nthe Jesuit Missions Cir cuit, a series of beautiful mission villages where\\nbaroque music and faith meld with the chilled-out culture of the Guaraní,\\nwhich is punctuated by contented smiles, simple connection with the land\\nand unique cultural experiences. Cruise back through Santa Cruz on your\\nway to the pre-Inca ruins at Samaipata  and tip-top wildlife watching at the\\nParque Nacional & Ár ea de Uso Múltiple Amboró . From the park')"
      ]
     },
     "execution_count": 25,
     "metadata": {},
     "output_type": "execute_result"
    }
   ],
   "source": [
    "page"
   ]
  },
  {
   "cell_type": "code",
   "execution_count": 17,
   "metadata": {},
   "outputs": [],
   "source": [
    "from langchain.text_splitter import RecursiveCharacterTextSplitter, CharacterTextSplitter"
   ]
  },
  {
   "cell_type": "code",
   "execution_count": 35,
   "metadata": {},
   "outputs": [],
   "source": [
    "from langchain.text_splitter import RecursiveCharacterTextSplitter\n",
    "\n",
    "text_splitter = RecursiveCharacterTextSplitter(\n",
    "    chunk_size=1000,\n",
    "    chunk_overlap=150,\n",
    "    length_function=len,\n",
    ")\n",
    "chunks = text_splitter.split_text(page.page_content)"
   ]
  },
  {
   "cell_type": "code",
   "execution_count": 43,
   "metadata": {},
   "outputs": [
    {
     "name": "stdout",
     "output_type": "stream",
     "text": [
      "Chunk 0: 947 caractères\n",
      "Chunk 1: 936 caractères\n",
      "Chunk 2: 580 caractères\n"
     ]
    }
   ],
   "source": [
    "for i, chunk in enumerate(chunks):\n",
    "    print(f\"Chunk {i}: {len(chunk)} caractères\")"
   ]
  },
  {
   "cell_type": "code",
   "execution_count": 61,
   "metadata": {},
   "outputs": [
    {
     "name": "stdout",
     "output_type": "stream",
     "text": [
      "Nombre total de chunks créés : 469\n",
      "\n",
      "Statistiques :\n",
      "Nombre total de pages traitées : 245\n",
      "Nombre moyen de chunks par page : 1.91\n",
      "Nombre minimum de chunks sur une page : 0\n",
      "Nombre maximum de chunks sur une page : 4\n",
      "\n",
      "Exemple de chunk avec métadonnées :\n",
      "{'content': 'OENOPHILIA\\nBolivian wine doesn’ t often get the credit it deserves, but a few days spent\\nsampling the goods in El V alle de la Concepción wineries near T arija will\\nquickly turn you into a convert, as will the friendly folks that call this land\\nof wine and honey home.\\nFOOD\\nChapaco  (Tarija local) cuisine is unique and inventive and, while some of\\nthe dishes sound more appealing than others, you won’ t find a similar menu\\nelsewhere in the country .\\nClick here\\nSanta Cruz & Gran Chiquitania\\nFood\\nHistory\\nMissions\\nFOOD', 'metadata': {'page_number': 73, 'source': 'lonely_bolivia.pdf'}}\n"
     ]
    }
   ],
   "source": [
    "from langchain.text_splitter import RecursiveCharacterTextSplitter\n",
    "\n",
    "# Créer l'instance du splitter\n",
    "text_splitter = RecursiveCharacterTextSplitter(\n",
    "    chunk_size=1000,\n",
    "    chunk_overlap=150,\n",
    "    length_function=len,\n",
    ")\n",
    "\n",
    "selected_pages = pages[5:250]\n",
    "\n",
    "# Initialiser une liste pour stocker tous les chunks avec leurs métadonnées\n",
    "all_chunks_with_metadata = []\n",
    "\n",
    "# Traiter chaque page\n",
    "for page_index, page in enumerate(selected_pages):\n",
    "    page_chunks = text_splitter.split_text(page.page_content)\n",
    "    for chunk in page_chunks:\n",
    "        all_chunks_with_metadata.append({\n",
    "            \"content\": chunk,\n",
    "            \"metadata\": {\n",
    "                \"page_number\": page.metadata.get(\"page_number\", page_index + 1),  # Utilise le numéro de page des métadonnées ou l'index + 1\n",
    "                \"source\": page.metadata.get(\"source\", \"Unknown\")\n",
    "            }\n",
    "        })\n",
    "\n",
    "# Afficher le nombre de chunks créés\n",
    "print(f\"Nombre total de chunks créés : {len(all_chunks_with_metadata)}\")\n",
    "\n",
    "# Afficher des statistiques sur les chunks\n",
    "total_pages = len(selected_pages)\n",
    "chunks_per_page = [len(text_splitter.split_text(page.page_content)) for page in selected_pages]\n",
    "avg_chunks_per_page = sum(chunks_per_page) / total_pages\n",
    "\n",
    "print(f\"\\nStatistiques :\")\n",
    "print(f\"Nombre total de pages traitées : {total_pages}\")\n",
    "print(f\"Nombre moyen de chunks par page : {avg_chunks_per_page:.2f}\")\n",
    "print(f\"Nombre minimum de chunks sur une page : {min(chunks_per_page)}\")\n",
    "print(f\"Nombre maximum de chunks sur une page : {max(chunks_per_page)}\")\n",
    "\n",
    "# Optionnel : Afficher un exemple de chunk avec ses métadonnées\n",
    "if all_chunks_with_metadata:\n",
    "    print(\"\\nExemple de chunk avec métadonnées :\")\n",
    "    print(all_chunks_with_metadata[100])"
   ]
  },
  {
   "cell_type": "code",
   "execution_count": 72,
   "metadata": {},
   "outputs": [
    {
     "name": "stdout",
     "output_type": "stream",
     "text": [
      "ok\n",
      "[Document(metadata={'source': 'raw_text_bolivie.txt'}, page_content='Alors, que faire en Bolivie lorsqu’il y a autant de lieux à visiter tous plus incroyables les uns que les autres ? Laissez-nous vous emmener à la découverte de notre top 5 des incontournables en Bolivie, à faire absolument si vous avez la chance de voyager en Bolivie !'), Document(metadata={'source': 'raw_text_bolivie.txt'}, page_content='Si la Selva vous permettra de découvrir la forêt, la végétation et les techniques de survie, la pampa bolivienne quant à elle est le lieux parfait pour l’observation des animaux sauvages, tels que les caïmans, les oiseaux, les serpents, les dauphins roses, les singes ou encore les capybaras. Peu importe que vous fassiez la Selva ou la pampa bolivienne, c’est dans tous les cas un incontournable absolu si vous voulez visiter la Bolivie !\\n\\nPour découvrir dans le détail notre guide très complet sur la Pampa d’Amazonie, vous pouvez cliquer sur le lien ci-dessous !\\n\\nRurrenabaque en Amazonie bolivienne\\nVisiter l’Amazonie en Bolivie depuis Rurrenabaque'), Document(metadata={'source': 'raw_text_bolivie.txt'}, page_content=\"Pour une journée complète, vous pouvez faire:\\n- Ciudad de Itas\\n- Spéléologie dans la Caverna Umajalanta (plus grande caverne de Bolivie).\\nCoût: 620bs à diviser par le nombre de personnes que vous êtes. \\nPour le midi, vous pouvez demander au guide dès le matin de réserver dans un petit restaurant sur le chemin qui sert soupe + plat pour 25bs.\\nJe ne mettrai pas de photos pour ne pas vous spoiler mais j'espère vous avoir donner envie de faire un arrêt à Torotoro ! Si vous avez des questions n'hésitez pas ! ☀️\"), Document(metadata={'source': 'raw_text_bolivie.txt'}, page_content=\"Retour d'expérience : 5 semaines en Bolivie \\nHello à tous, voici un récap détaillé de notre séjour en Bolivie. Notez que mon compagnons et moi voyageons à temps plein depuis 3,5 ans : nous avons donc zappés quelques étapes qui peuvent paraitre incontournables car on a déjà vécu des expériences semblables auparavant. On s'est également imposé un budget moyen journalier de 60€ à deux que nous n'avons pas dépassé (je pense qu'on est entre 50€ et 55€/jour/à deux). J'espère que cela vous aidera et si vous voulez nous soutenir en retour, voici notre insta : maki_explore.\\nTIPS (pour commencer)\\n💳 Il est très difficile de retirer de l'argent sans frais avec une mastercard (N26 pour nous). \\n📱Carte SIM Entel à acheter dans une boutique officielle pour qu'ils l'enregistrent correctement avec le passeport (50 Bs pour 1 mois : 5Gb, whatsapp illimité + 10 Bs pour la SIM).\"), Document(metadata={'source': 'raw_text_bolivie.txt'}, page_content='Entre le célèbre marché aux sorcières de La Paz (mercado de las Brujas), le téléphérique Rojo qui rejoint les hauteurs de El Alto et son impressionnant marché, ses rues pittoresques imprégnées du passé colonial de la ville, à l’image de la rue Jaén, ou encore sa scène culturelle bien fournie avec entre autre le musée de la coca et les spectacles de cholita, vous ne devriez pas vous ennuyez dans la capitale bolivienne.'), Document(metadata={'source': 'raw_text_bolivie.txt'}, page_content='Que faire à Isla del Sol\\nDeux jours pour visiter Isla del Sol\\n\\nComment visiter Isla del Sol sur le lac Titicaca\\nVisiter Isla del Sol ou Isla de la Luna sur le lac Titicaca\\nComment se rendre à Isla del Sol depuis Copacabana\\nVisiter Isla del Sol au Lac Titicaca\\nVisiter Isla del Sol sur le Lac Titicaca\\nComment se rendre à Isla del Sol\\n5- Que faire en Bolivie de plus authentique : visiter La Paz et son chaos organisé\\nque faire à la Paz - visiter la rue Jaen\\nCapitale de la Bolivie administrativement, La Paz est une destination culturelle incontournable qui dénote par son authenticité : un mélange envoûtant de quartiers pittoresques, de richesse culturelle et de panoramas uniques où les téléphériques colorés traversent les collines de la ville de part en part comme des lianes dans une épaisse jungle urbaine où un chaos organisé semble régner.'), Document(metadata={'source': 'raw_text_bolivie.txt'}, page_content='Elle attire chaque année des millions de visiteurs avec son charme, son architecture coloniale, ses bâtiments religieux (l’église San Felipe de Neri, la cathédrale de Sucre, etc) et ses musées (la Casa de la Libertad, le musée del Tresoro, etc), mais pas seulement !\\n\\nLa cité blanche attire aussi par son ambiance festive et sa culture culinaire avec un magnifique marché aux fruits et de nombreux cafés, bars et restaurants qui proposent de nombreuses spécialités locales :\\n\\nLe chocolat\\nLe mondongo chuquisaqueño : un plat de viande en sauce à base de piment\\nLa chicha : une boisson fermentée à base de maïs\\nOu encore la saucisse (oui oui, nous aussi ça nous a surpris)\\nVoyager en Bolivie sans passer par Sucre serait donc vraiment une erreur et on peut facilement y consacrer 3 ou 4 jours ! Si vous voulez lire notre guide complet sur les incontournables de Sucre, la cité blanche, vous pouvez cliquer sur notre article ci-dessous !'), Document(metadata={'source': 'raw_text_bolivie.txt'}, page_content=\"grand monde). C'est près de la place principale. Ce pueblo est très mignon, une atmosphère et un style différent de tout ce qu'on a pu rencontrer jusqu'ici en Bolivie. Ça vaut le coup d'y passer une demie-journée. Pour manger, le marché propose quelques almuerzos à 10Bs. Sinon quelques petits restau/cafés sympa. Nous avons beaucoup aimé cette petite ville !\"), Document(metadata={'source': 'raw_text_bolivie.txt'}, page_content=\"Retour d'expérience après 1 mois en Bolivie - notre top 5 des immanquables]\\nHello à tous !\\nPour ceux qui préparent leur voyage en Bolivie ou qui sont en train d'y voyager : après un peu plus d'un mois sur place, on voulait vous partager notre top 5 des incontournables selon nous dans ce petit article !\\nhttps://www.travelearth.fr/que-faire-en-bolivie-top-5.../\\nDans notre classement :\\nLe salar d'Uyuni et le sud Lipez\\nLa pampa/selva bolivienne\\nLa ville coloniale de Sucre\\nIsla del Sol et le lac Titicaca\\nLa Paz et son chaos organisé\\nNotre insta : travel_earth_fr\\nOn explique dans cet article, pour chaque lieu, les choses importantes à savoir, les restaurants et activités à faire, nos itinéraires, comment s'y rendre, etc. On aurait pu aussi mettre le parc Toro Toro ou le Sajama mais comme ils sont un peu plus difficile d'accès, on s'est concentré sur ces 5 là !\"), Document(metadata={'source': 'raw_text_bolivie.txt'}, page_content=\"Ciel étoilé dans le sud Lipez\\n4 jours dans le salar d’Uyuni, le désert de sel en Bolivie\\n\\nRouler dans le désert de sel en Bolivie\\nLe salar de Chiguana\\nLa laguna Cañapa désert d'Uyuni\\nVisiter la laguna Colorada dans le désert de sel\\nDécouverte des lagunes aux flamants roses\\nLaguna verde salar d'Uyuni\\nVisiter le salar d'Uyuni avec un drone\\nRouler en autonomie sur le désert de sel en Bolivie\\nLever de soleil effet miroir dans le salar d'Uyuni\\n2- Que voir en Bolivie pour les amoureux de la nature : la pampa bolivienne\\nDécouvrir l'Amazonie en Bolivie depuis Rurrenabaque\\nL’Amazonie en Bolivie offre des paysages sauvages, préservés et très variés permettant une immersion unique au cœur de la nature. Le point d’entrée le plus populaire pour explorer cette vaste étendue de forêt tropicale est la ville de Rurrenabaque, situé dans le nord du pays. Vous aurez ensuite le choix de visiter la partie Selva, synonyme de jungle, ou la partie pampa bolivienne, synonyme de marécages.\"), Document(metadata={'source': 'raw_text_bolivie.txt'}, page_content=\"🌇Villes : \\n- La Paz ( 6 jours nécessaires pour l'acclimatation a l'altitude ) : Vallée de las ánimas, Pico Austria avec guide ( faite au 4e jour, assez intense mais magnifique ), marché del alto, marché des sorcières ( walking tour), show de chulletas...\\n- Copaccabana ( 1 jour ) : sommet El Calvario - pas grand intérêt \\n- Isla del sol ( 2 jours ) : tour guidé jusqu'au temple du soleil, randonnée de 6h autour de l'île en autonomie.\\n- Sajama ( 3 jours ) : Geysers, laguna Huyana Cotta, thermes Huari.\\n- Torotoro ❤️❤️ ( 4 jours ) : Spéléologie, ciudad de itas,canyon, baignade cascade, traces dinosaures, rappel dans cascade Chiflon.\\n- Sucre ❤️❤️ ( 3 jours mais on aurait préféré plus) : Food tour, horse riding, fête Halloween a l'hostel Berlin (idéal pour fête la fete !!)\"), Document(metadata={'source': 'raw_text_bolivie.txt'}, page_content=\"Les parties de notre article sur les immanquables en Bolivie\\n1- Que faire en Bolivie de plus extraordinaire : 4 jours dans le salar d’Uyuni et le sud Lipez !\\n2- Que voir en Bolivie pour les amoureux de la nature : la pampa bolivienne\\n3- Sucre : la ville coloniale à visiter absolument lors d’un voyage en Bolivie\\n4- Que faire en Bolivie de plus reposant : visiter Isla del Sol sur le lac Titicaca\\n5- Que faire en Bolivie de plus authentique : visiter La Paz et son chaos organisé\\n1- Que faire en Bolivie de plus extraordinaire : 4 jours dans le salar d’Uyuni et le sud Lipez !\\nVisiter le salar d'Uyuni : 4 jours dans le désert de sel en Bolivie\\nOn ne pouvait pas commencer cet article sur « que faire en Bolivie » sans parler du meilleur : le salar d’Uyuni, dans la région du sud Lipez, qui constitue l’une des expériences les plus folles que vous pourrez faire dans votre vie !\"), Document(metadata={'source': 'raw_text_bolivie.txt'}, page_content=\"Bonne journée ✨\\nETOUR D'EXPÉRIENCE 1 mois en Bolivie. ( Octobre )\\nNous étions 3 copines 😋😋\\nÉtant donné que le groupe nous a beaucoup apporté, nous souhaitions également contribuer en y ajoutant notre expérience 🙂\\nEn résumé : nous avons adoré et nous recommandons à 100% ! Surtout si tu aimes la randonnée, les paysages sont juste incroyables et il y a vraiment pour tout niveau.\\n🚌Transport : Nous n'avons utilisé que les bus , plus économiques . Nous n'avons eu aucun problème avec nos bagages que l'on a toujours mis dans les soutes ( en gardant bien les objets de valeur avec nous dans le bus ). \\nNous avons dû utiliser également des collectivos 😊 équivalent a un minibus) notamment pour les trajets Patacamaya - Sajama et Cochabamba - Torotoro. \\n🚕Taxi : Pas besoin d'utiliser Uber ( On a essayé mais ça n'a pas fonctionné ). Dans la rue , il y a énormément de taxi qui passe et pas cher du tout .\"), Document(metadata={'source': 'raw_text_bolivie.txt'}, page_content='Que faire en Bolivie – Top 5 des incontournables\\naoût 9, 2024 Bolivie, Amérique du Sud, Découvrir le monde\\nSi vous comptez voyager en Bolivie et que vous vous demandez que faire en Bolivie, alors suivez le guide dans ce top 5 des incontournables à voir !\\n\\nVisiter la Bolivie est sans aucun doute l’un des plus beaux voyages à faire au moins une fois dans sa vie ! D’abord, c’est un pays rempli de paysages à couper le souffle : de la forêt amazonienne et sa biodiversité incroyable au nord, aux étendues du salar d’Uyuni, le plus grand désert de sel du monde, au sud !\\n\\nMais c’est aussi un pays dont certaines villes valent vraiment le détour, à l’image de Sucre et son architecture coloniale, Potosi et sa mine d’argent ou encore La Paz et son marché aux sorcières !'), Document(metadata={'source': 'raw_text_bolivie.txt'}, page_content='visiter la casa de la Libertad de Sucre\\nVisiter Sucre, la magnifique cité blanche\\n\\ndécouvrir Sucre en Bolivie\\nvisiter Sucre - voyager en Bolivie\\nMarché central de Sucre en Bolivie\\nCasa de la libertad Sucre\\nque faire en Bolivie - visiter la casa de la Libertad\\nvisiter Sucre en Bolivie - esplanade de la Recoleta\\nvisiter Sucre en Bolivie - vieille ville\\nvoyager en Bolivie à Sucre\\nQue faire en Bolivie - Marché central de Sucre\\n4- Que faire en Bolivie de plus reposant : visiter Isla del Sol sur le lac Titicaca\\nVisiter le lac Tititcaca et Isla del Sol\\nUn des plus hauts lacs navigables au monde (3 800m d’altitude tout de même), le lac Titicaca est un lieu à la fois mystique et magnifique qu’il serait vraiment dommage de manquer lors d’un voyage en Bolivie.'), Document(metadata={'source': 'raw_text_bolivie.txt'}, page_content='[ Retour d’expérience voyage d’un mois en Bolivie ] \\nNous sommes restés un mois en Bolivie durant le mois d’avril. On s’est pas mal aidé de ce groupe pour diverses choses donc on tenait à vous faire un petit retour 🙂 \\nNotre itinéraire : \\nLe sud Lipez > sucre > Torotoro > la Paz > l’Amazonie > Isla del sol\\nOn a tout adoré de ce voyage ! Ne vous cantonnez pas au Salar. Ce pays a tellement à vous offrir. Les gens sont si gentils, les paysages si beaux. \\nOn a partagé plein de choses dans un guide fait sur notre page instagram : Pierre.feuille.voyages (prix de nos logements, restaurants et activités). \\nSi ça peut vous aider ce sera avec plaisir 🙂 \\nQuelques photos pour le plaisir des yeux. \\nOn vous souhaite à tous un très beau voyage !'), Document(metadata={'source': 'raw_text_bolivie.txt'}, page_content=\"- Tupiza - Salar d'Uyuni : nous avons fait un tour de 7 jours dans le sud de Lipez avec Torre tour et le guide anglais/espagnol Elvis ❤️ qui a été super ! Toute la semaine a été incroyable ! Nous avons même été en boîte à côté du salar 🕺\\nJe ne peux pas tout détailler sur tout mais si vous avez des questions sur des activités ou autres n'hésitez pas 😊 \\nBonne découverte de la Bolivie ! 😃\\n[SAJAMA _ retour d'expérience]\\nBonjour à tous ! Nous avons décidé de nous rendre à Sajama spécialement pour faire l'ascension de l'Acotango, c'est chose faite 😁 \\nPour nous y rendre nous avons pris un bus La Paz - Oruro pour 20 bob à 7h en demandant au chauffeur de nous déposer à Patacamaya (astuce maintes fois expliquée sur le groupe). Petit tips en plus : choisir une compagnie de bus sans porte vous séparant du chauffeur pour ne pas galérer à lui transmettre votre envie de vous arrêter (certains ont dû se fatiguer à tambouriner pour ne descendre que 3 km plus loin) 🤗\"), Document(metadata={'source': 'raw_text_bolivie.txt'}, page_content='// Retour d’expérience voyage Bolivie //\\nCe groupe nous a beaucoup aidé, Lohan et moi même, donc nous voulons donner nos recommandations à notre tour.\\nNous sommes arrivés depuis le Pérou en passant la frontière en bus à Copacabana (très rapide pour notre part), voici nos recommandations : \\nLa Paz : \\n- Logement : Incas Room Hotel (« Chez Silvia » sur Airbnb), très bien situé à côté du marché des sorcières avec de l’eau chaude.\\n- Restaurants : Café del Mundo / Popular Cocina Bolivinia / Carrot Tree\\n- Activités : Marché des sorcières / Musée de la coca / Entre Av. Illampu et Sagarnaga (pour acheter les fausses doudounes Patagonia) / Visite du marché de El Alto avec Madeleine (+591 60106840) les jeudi et dimanche, très sympa avec de bonnes explications / Combat de catch (Cholitas Wrestling Lider) avec Madeleine\\nBus de nuit de La Paz vers Tupiza : Express Tupiza, très bon bus pour dormir mais aucune possibilité de changement si imprévus\\nTupiza :\\n- Logement : Hostal Butch Cassidy'), Document(metadata={'source': 'raw_text_bolivie.txt'}, page_content='⚠️ Ne sous-estimez pas l\\'altitude et prenez bien le temps de vous acclimater ! On a rencontré pas mal de voyageurs en PLS car ils étaient montés en altitude trop vite. \\n💩 On avait été prévenus et on a essayé de faire attention mais rien n\\'y a fait : les intestins sont mis à rude épreuve en Bolivie ! \\nCOPACABANA\\n📆 2 nuits : une avant de partir pour Isla del Sol et une en revenant\\n🚌 Arrivée depuis Puno (Pérou) avec Transzela\\n🏠 Hostal Florencia : 90 Bs/nuit ch. double, sdb commune, eau chaude, petit déj. Très calme, staff super sympa. \\n💱Les taux de change des vendeurs près de la Plaza Sucre sont très intéressants pour changer des soles péruviens restants (1 PEN = 1,85 Bs)\\n🏧 Il y a 2 ATMs autour de la Plaza Sucre : Banco Union et Banco Fie (sans frais avec Visa). \\n🍽️ Manger une truite au kiosque n°12 \"Aries\" sur la plage, tout est à 30 Bs ; Jardin Boliviano, bonne nourriture, simple et pas cher. \\nISLA DEL SOL (Norte) \\n📆 3J/2N avec arrivée à 11h au J1 et départ à 8h30 au J3.'), Document(metadata={'source': 'raw_text_bolivie.txt'}, page_content='Rurrenabaque en Amazonie bolivienne\\nVisiter l’Amazonie en Bolivie depuis Rurrenabaque\\n\\nObservation des singes hurleurs en Amazonie bolivienne\\nLes paresseux en Amazonie\\nAmazonie bolivienne drone\\nCapybaras en Amazonie bolivienne\\nJungle amazonienne - singe\\nObservation des oiseaux à Rurrenabaque en Bolivie\\nQue voir en Bolivie pour les amoureux de la nature : la pampa bolivienne\\nCaïman en Amazonie bolivienne\\nObservation des oiseaux en Amazonie bolivienne\\n3- Sucre : la ville coloniale à visiter absolument lors d’un voyage en Bolivie\\nvisiter Sucre en Bolivie - que faire en Bolivie\\nClassée au patrimoine mondial de l’UNESCO, la ville coloniale de Sucre (que l’on appelle aussi la cité blanche), fait partie des points incontournables par lesquels passer dans le sud de la Bolivie.')]\n"
     ]
    }
   ],
   "source": [
    "from langchain_community.document_loaders import TextLoader\n",
    "from langchain_mistralai.embeddings import MistralAIEmbeddings\n",
    "from langchain_community.vectorstores import FAISS\n",
    "from langchain.text_splitter import RecursiveCharacterTextSplitter\n",
    "from langchain.chains.combine_documents import create_stuff_documents_chain\n",
    "from langchain_core.prompts import ChatPromptTemplate\n",
    "from langchain.chains import create_retrieval_chain\n",
    "from mistralai import Mistral\n",
    "from dotenv import load_dotenv\n",
    "import os\n",
    "\n",
    "# Charger les variables d'environnement\n",
    "load_dotenv()\n",
    "api_key = os.getenv('MISTRAL_API_KEY')\n",
    "\n",
    "# Charger le texte\n",
    "loader = TextLoader(\"raw_text_bolivie.txt\")\n",
    "docs = loader.load()\n",
    "\n",
    "\n",
    "# Initialiser les embeddings Mistral\n",
    "embeddings = MistralAIEmbeddings(model=\"mistral-embed\", mistral_api_key=api_key)\n",
    "\n",
    "vector_store_path = \"vector_store_faiss\"\n",
    "\n",
    "\n",
    "# Recharger le vector store à partir des fichiers sauvegardés\n",
    "vector_store = FAISS.load_local(vector_store_path, embeddings, allow_dangerous_deserialization=True)\n",
    "\n",
    "print(\"ok\")\n",
    "\n",
    "from langchain_community.document_loaders import TextLoader\n",
    "from langchain_mistralai.chat_models import ChatMistralAI\n",
    "from langchain_mistralai.embeddings import MistralAIEmbeddings\n",
    "from langchain_community.vectorstores import FAISS\n",
    "from langchain.text_splitter import RecursiveCharacterTextSplitter\n",
    "from langchain.chains.combine_documents import create_stuff_documents_chain\n",
    "from langchain_core.prompts import ChatPromptTemplate\n",
    "from langchain.chains import create_retrieval_chain\n",
    "\n",
    "\n",
    "embeddings = MistralAIEmbeddings(model=\"mistral-embed\", mistral_api_key=api_key)\n",
    "\n",
    "#retriever = vector_store.as_retriever()\n",
    "# Define LLM\n",
    "# Define prompt template\n",
    "prompt = ChatPromptTemplate.from_template(\"\"\"Answer the following question based only on the provided context:\n",
    "\n",
    "<context>\n",
    "{context}\n",
    "</context>\n",
    "\n",
    "Question: {input}\"\"\")\n",
    "\n",
    "\n",
    "\n",
    "\"\"\"\n",
    "# Create a retrieval chain to answer questions\n",
    "document_chain = create_stuff_documents_chain(model, prompt)\n",
    "#Cette ligne crée une chaîne de documents de type \"stuff\".\n",
    "#La chaîne \"stuff\" prend tous les documents récupérés et les \"bourre\" (stuffs) dans un seul prompt.\n",
    "\n",
    "retrieval_chain = create_retrieval_chain(retriever, document_chain)\n",
    "response = retrieval_chain.invoke({\"input\": \"quelles sont les 10 meilleures activités à faire en bolivie\"})\n",
    "print(response[\"answer\"])\n",
    "\n",
    "\"\"\"\n",
    "\n",
    "retriever = vector_store.as_retriever(search_type=\"mmr\", search_kwargs={\"k\": 20})\n",
    "docs = retriever.invoke(\"Quelles sont les meilleures activités en Bolivie quand on est aventurier?\")\n",
    "print(docs)\n",
    "\n",
    "model = ChatMistralAI(mistral_api_key=api_key)\n",
    "\n",
    "# jaccède aux k chunk qui permettent de repondre le plus possible à la question\n",
    "\n",
    "# Concaténer le contenu des chunks récupérés\n",
    "context = \"\\n\\n\".join([doc.page_content for doc in docs])"
   ]
  },
  {
   "cell_type": "code",
   "execution_count": 73,
   "metadata": {},
   "outputs": [
    {
     "name": "stdout",
     "output_type": "stream",
     "text": [
      "Context concaténé :\n",
      " Alors, que faire en Bolivie lorsqu’il y a autant de lieux à visiter tous plus incroyables les uns que les autres ? Laissez-nous vous emmener à la découverte de notre top 5 des incontournables en Bolivie, à faire absolument si vous avez la chance de voyager en Bolivie !\n",
      "\n",
      "Si la Selva vous permettra de découvrir la forêt, la végétation et les techniques de survie, la pampa bolivienne quant à elle est le lieux parfait pour l’observation des animaux sauvages, tels que les caïmans, les oiseaux, les serpents, les dauphins roses, les singes ou encore les capybaras. Peu importe que vous fassiez la Selva ou la pampa bolivienne, c’est dans tous les cas un incontournable absolu si vous voulez visiter la Bolivie !\n",
      "\n",
      "Pour découvrir dans le détail notre guide très complet sur la Pampa d’Amazonie, vous pouvez cliquer sur le lien ci-dessous !\n",
      "\n",
      "Rurrenabaque en Amazonie bolivienne\n",
      "Visiter l’Amazonie en Bolivie depuis Rurrenabaque\n",
      "\n",
      "Pour une journée complète, vous pouvez faire:\n",
      "- Ciudad de Itas\n",
      "- Spéléologie dans la Caverna Umajalanta (plus grande caverne de Bolivie).\n",
      "Coût: 620bs à diviser par le nombre de personnes que vous êtes. \n",
      "Pour le midi, vous pouvez demander au guide dès le matin de réserver dans un petit restaurant sur le chemin qui sert soupe + plat pour 25bs.\n",
      "Je ne mettrai pas de photos pour ne pas vous spoiler mais j'espère vous avoir donner envie de faire un arrêt à Torotoro ! Si vous avez des questions n'hésitez pas ! ☀️\n",
      "\n",
      "Retour d'expérience : 5 semaines en Bolivie \n",
      "Hello à tous, voici un récap détaillé de notre séjour en Bolivie. Notez que mon compagnons et moi voyageons à temps plein depuis 3,5 ans : nous avons donc zappés quelques étapes qui peuvent paraitre incontournables car on a déjà vécu des expériences semblables auparavant. On s'est également imposé un budget moyen journalier de 60€ à deux que nous n'avons pas dépassé (je pense qu'on est entre 50€ et 55€/jour/à deux). J'espère que cela vous aidera et si vous voulez nous soutenir en retour, voici notre insta : maki_explore.\n",
      "TIPS (pour commencer)\n",
      "💳 Il est très difficile de retirer de l'argent sans frais avec une mastercard (N26 pour nous). \n",
      "📱Carte SIM Entel à acheter dans une boutique officielle pour qu'ils l'enregistrent correctement avec le passeport (50 Bs pour 1 mois : 5Gb, whatsapp illimité + 10 Bs pour la SIM).\n",
      "\n",
      "Entre le célèbre marché aux sorcières de La Paz (mercado de las Brujas), le téléphérique Rojo qui rejoint les hauteurs de El Alto et son impressionnant marché, ses rues pittoresques imprégnées du passé colonial de la ville, à l’image de la rue Jaén, ou encore sa scène culturelle bien fournie avec entre autre le musée de la coca et les spectacles de cholita, vous ne devriez pas vous ennuyez dans la capitale bolivienne.\n",
      "\n",
      "Que faire à Isla del Sol\n",
      "Deux jours pour visiter Isla del Sol\n",
      "\n",
      "Comment visiter Isla del Sol sur le lac Titicaca\n",
      "Visiter Isla del Sol ou Isla de la Luna sur le lac Titicaca\n",
      "Comment se rendre à Isla del Sol depuis Copacabana\n",
      "Visiter Isla del Sol au Lac Titicaca\n",
      "Visiter Isla del Sol sur le Lac Titicaca\n",
      "Comment se rendre à Isla del Sol\n",
      "5- Que faire en Bolivie de plus authentique : visiter La Paz et son chaos organisé\n",
      "que faire à la Paz - visiter la rue Jaen\n",
      "Capitale de la Bolivie administrativement, La Paz est une destination culturelle incontournable qui dénote par son authenticité : un mélange envoûtant de quartiers pittoresques, de richesse culturelle et de panoramas uniques où les téléphériques colorés traversent les collines de la ville de part en part comme des lianes dans une épaisse jungle urbaine où un chaos organisé semble régner.\n",
      "\n",
      "Elle attire chaque année des millions de visiteurs avec son charme, son architecture coloniale, ses bâtiments religieux (l’église San Felipe de Neri, la cathédrale de Sucre, etc) et ses musées (la Casa de la Libertad, le musée del Tresoro, etc), mais pas seulement !\n",
      "\n",
      "La cité blanche attire aussi par son ambiance festive et sa culture culinaire avec un magnifique marché aux fruits et de nombreux cafés, bars et restaurants qui proposent de nombreuses spécialités locales :\n",
      "\n",
      "Le chocolat\n",
      "Le mondongo chuquisaqueño : un plat de viande en sauce à base de piment\n",
      "La chicha : une boisson fermentée à base de maïs\n",
      "Ou encore la saucisse (oui oui, nous aussi ça nous a surpris)\n",
      "Voyager en Bolivie sans passer par Sucre serait donc vraiment une erreur et on peut facilement y consacrer 3 ou 4 jours ! Si vous voulez lire notre guide complet sur les incontournables de Sucre, la cité blanche, vous pouvez cliquer sur notre article ci-dessous !\n",
      "\n",
      "grand monde). C'est près de la place principale. Ce pueblo est très mignon, une atmosphère et un style différent de tout ce qu'on a pu rencontrer jusqu'ici en Bolivie. Ça vaut le coup d'y passer une demie-journée. Pour manger, le marché propose quelques almuerzos à 10Bs. Sinon quelques petits restau/cafés sympa. Nous avons beaucoup aimé cette petite ville !\n",
      "\n",
      "Retour d'expérience après 1 mois en Bolivie - notre top 5 des immanquables]\n",
      "Hello à tous !\n",
      "Pour ceux qui préparent leur voyage en Bolivie ou qui sont en train d'y voyager : après un peu plus d'un mois sur place, on voulait vous partager notre top 5 des incontournables selon nous dans ce petit article !\n",
      "https://www.travelearth.fr/que-faire-en-bolivie-top-5.../\n",
      "Dans notre classement :\n",
      "Le salar d'Uyuni et le sud Lipez\n",
      "La pampa/selva bolivienne\n",
      "La ville coloniale de Sucre\n",
      "Isla del Sol et le lac Titicaca\n",
      "La Paz et son chaos organisé\n",
      "Notre insta : travel_earth_fr\n",
      "On explique dans cet article, pour chaque lieu, les choses importantes à savoir, les restaurants et activités à faire, nos itinéraires, comment s'y rendre, etc. On aurait pu aussi mettre le parc Toro Toro ou le Sajama mais comme ils sont un peu plus difficile d'accès, on s'est concentré sur ces 5 là !\n",
      "\n",
      "Ciel étoilé dans le sud Lipez\n",
      "4 jours dans le salar d’Uyuni, le désert de sel en Bolivie\n",
      "\n",
      "Rouler dans le désert de sel en Bolivie\n",
      "Le salar de Chiguana\n",
      "La laguna Cañapa désert d'Uyuni\n",
      "Visiter la laguna Colorada dans le désert de sel\n",
      "Découverte des lagunes aux flamants roses\n",
      "Laguna verde salar d'Uyuni\n",
      "Visiter le salar d'Uyuni avec un drone\n",
      "Rouler en autonomie sur le désert de sel en Bolivie\n",
      "Lever de soleil effet miroir dans le salar d'Uyuni\n",
      "2- Que voir en Bolivie pour les amoureux de la nature : la pampa bolivienne\n",
      "Découvrir l'Amazonie en Bolivie depuis Rurrenabaque\n",
      "L’Amazonie en Bolivie offre des paysages sauvages, préservés et très variés permettant une immersion unique au cœur de la nature. Le point d’entrée le plus populaire pour explorer cette vaste étendue de forêt tropicale est la ville de Rurrenabaque, situé dans le nord du pays. Vous aurez ensuite le choix de visiter la partie Selva, synonyme de jungle, ou la partie pampa bolivienne, synonyme de marécages.\n",
      "\n",
      "🌇Villes : \n",
      "- La Paz ( 6 jours nécessaires pour l'acclimatation a l'altitude ) : Vallée de las ánimas, Pico Austria avec guide ( faite au 4e jour, assez intense mais magnifique ), marché del alto, marché des sorcières ( walking tour), show de chulletas...\n",
      "- Copaccabana ( 1 jour ) : sommet El Calvario - pas grand intérêt \n",
      "- Isla del sol ( 2 jours ) : tour guidé jusqu'au temple du soleil, randonnée de 6h autour de l'île en autonomie.\n",
      "- Sajama ( 3 jours ) : Geysers, laguna Huyana Cotta, thermes Huari.\n",
      "- Torotoro ❤️❤️ ( 4 jours ) : Spéléologie, ciudad de itas,canyon, baignade cascade, traces dinosaures, rappel dans cascade Chiflon.\n",
      "- Sucre ❤️❤️ ( 3 jours mais on aurait préféré plus) : Food tour, horse riding, fête Halloween a l'hostel Berlin (idéal pour fête la fete !!)\n",
      "\n",
      "Les parties de notre article sur les immanquables en Bolivie\n",
      "1- Que faire en Bolivie de plus extraordinaire : 4 jours dans le salar d’Uyuni et le sud Lipez !\n",
      "2- Que voir en Bolivie pour les amoureux de la nature : la pampa bolivienne\n",
      "3- Sucre : la ville coloniale à visiter absolument lors d’un voyage en Bolivie\n",
      "4- Que faire en Bolivie de plus reposant : visiter Isla del Sol sur le lac Titicaca\n",
      "5- Que faire en Bolivie de plus authentique : visiter La Paz et son chaos organisé\n",
      "1- Que faire en Bolivie de plus extraordinaire : 4 jours dans le salar d’Uyuni et le sud Lipez !\n",
      "Visiter le salar d'Uyuni : 4 jours dans le désert de sel en Bolivie\n",
      "On ne pouvait pas commencer cet article sur « que faire en Bolivie » sans parler du meilleur : le salar d’Uyuni, dans la région du sud Lipez, qui constitue l’une des expériences les plus folles que vous pourrez faire dans votre vie !\n",
      "\n",
      "Bonne journée ✨\n",
      "ETOUR D'EXPÉRIENCE 1 mois en Bolivie. ( Octobre )\n",
      "Nous étions 3 copines 😋😋\n",
      "Étant donné que le groupe nous a beaucoup apporté, nous souhaitions également contribuer en y ajoutant notre expérience 🙂\n",
      "En résumé : nous avons adoré et nous recommandons à 100% ! Surtout si tu aimes la randonnée, les paysages sont juste incroyables et il y a vraiment pour tout niveau.\n",
      "🚌Transport : Nous n'avons utilisé que les bus , plus économiques . Nous n'avons eu aucun problème avec nos bagages que l'on a toujours mis dans les soutes ( en gardant bien les objets de valeur avec nous dans le bus ). \n",
      "Nous avons dû utiliser également des collectivos 😊 équivalent a un minibus) notamment pour les trajets Patacamaya - Sajama et Cochabamba - Torotoro. \n",
      "🚕Taxi : Pas besoin d'utiliser Uber ( On a essayé mais ça n'a pas fonctionné ). Dans la rue , il y a énormément de taxi qui passe et pas cher du tout .\n",
      "\n",
      "Que faire en Bolivie – Top 5 des incontournables\n",
      "août 9, 2024 Bolivie, Amérique du Sud, Découvrir le monde\n",
      "Si vous comptez voyager en Bolivie et que vous vous demandez que faire en Bolivie, alors suivez le guide dans ce top 5 des incontournables à voir !\n",
      "\n",
      "Visiter la Bolivie est sans aucun doute l’un des plus beaux voyages à faire au moins une fois dans sa vie ! D’abord, c’est un pays rempli de paysages à couper le souffle : de la forêt amazonienne et sa biodiversité incroyable au nord, aux étendues du salar d’Uyuni, le plus grand désert de sel du monde, au sud !\n",
      "\n",
      "Mais c’est aussi un pays dont certaines villes valent vraiment le détour, à l’image de Sucre et son architecture coloniale, Potosi et sa mine d’argent ou encore La Paz et son marché aux sorcières !\n",
      "\n",
      "visiter la casa de la Libertad de Sucre\n",
      "Visiter Sucre, la magnifique cité blanche\n",
      "\n",
      "découvrir Sucre en Bolivie\n",
      "visiter Sucre - voyager en Bolivie\n",
      "Marché central de Sucre en Bolivie\n",
      "Casa de la libertad Sucre\n",
      "que faire en Bolivie - visiter la casa de la Libertad\n",
      "visiter Sucre en Bolivie - esplanade de la Recoleta\n",
      "visiter Sucre en Bolivie - vieille ville\n",
      "voyager en Bolivie à Sucre\n",
      "Que faire en Bolivie - Marché central de Sucre\n",
      "4- Que faire en Bolivie de plus reposant : visiter Isla del Sol sur le lac Titicaca\n",
      "Visiter le lac Tititcaca et Isla del Sol\n",
      "Un des plus hauts lacs navigables au monde (3 800m d’altitude tout de même), le lac Titicaca est un lieu à la fois mystique et magnifique qu’il serait vraiment dommage de manquer lors d’un voyage en Bolivie.\n",
      "\n",
      "[ Retour d’expérience voyage d’un mois en Bolivie ] \n",
      "Nous sommes restés un mois en Bolivie durant le mois d’avril. On s’est pas mal aidé de ce groupe pour diverses choses donc on tenait à vous faire un petit retour 🙂 \n",
      "Notre itinéraire : \n",
      "Le sud Lipez > sucre > Torotoro > la Paz > l’Amazonie > Isla del sol\n",
      "On a tout adoré de ce voyage ! Ne vous cantonnez pas au Salar. Ce pays a tellement à vous offrir. Les gens sont si gentils, les paysages si beaux. \n",
      "On a partagé plein de choses dans un guide fait sur notre page instagram : Pierre.feuille.voyages (prix de nos logements, restaurants et activités). \n",
      "Si ça peut vous aider ce sera avec plaisir 🙂 \n",
      "Quelques photos pour le plaisir des yeux. \n",
      "On vous souhaite à tous un très beau voyage !\n",
      "\n",
      "- Tupiza - Salar d'Uyuni : nous avons fait un tour de 7 jours dans le sud de Lipez avec Torre tour et le guide anglais/espagnol Elvis ❤️ qui a été super ! Toute la semaine a été incroyable ! Nous avons même été en boîte à côté du salar 🕺\n",
      "Je ne peux pas tout détailler sur tout mais si vous avez des questions sur des activités ou autres n'hésitez pas 😊 \n",
      "Bonne découverte de la Bolivie ! 😃\n",
      "[SAJAMA _ retour d'expérience]\n",
      "Bonjour à tous ! Nous avons décidé de nous rendre à Sajama spécialement pour faire l'ascension de l'Acotango, c'est chose faite 😁 \n",
      "Pour nous y rendre nous avons pris un bus La Paz - Oruro pour 20 bob à 7h en demandant au chauffeur de nous déposer à Patacamaya (astuce maintes fois expliquée sur le groupe). Petit tips en plus : choisir une compagnie de bus sans porte vous séparant du chauffeur pour ne pas galérer à lui transmettre votre envie de vous arrêter (certains ont dû se fatiguer à tambouriner pour ne descendre que 3 km plus loin) 🤗\n",
      "\n",
      "// Retour d’expérience voyage Bolivie //\n",
      "Ce groupe nous a beaucoup aidé, Lohan et moi même, donc nous voulons donner nos recommandations à notre tour.\n",
      "Nous sommes arrivés depuis le Pérou en passant la frontière en bus à Copacabana (très rapide pour notre part), voici nos recommandations : \n",
      "La Paz : \n",
      "- Logement : Incas Room Hotel (« Chez Silvia » sur Airbnb), très bien situé à côté du marché des sorcières avec de l’eau chaude.\n",
      "- Restaurants : Café del Mundo / Popular Cocina Bolivinia / Carrot Tree\n",
      "- Activités : Marché des sorcières / Musée de la coca / Entre Av. Illampu et Sagarnaga (pour acheter les fausses doudounes Patagonia) / Visite du marché de El Alto avec Madeleine (+591 60106840) les jeudi et dimanche, très sympa avec de bonnes explications / Combat de catch (Cholitas Wrestling Lider) avec Madeleine\n",
      "Bus de nuit de La Paz vers Tupiza : Express Tupiza, très bon bus pour dormir mais aucune possibilité de changement si imprévus\n",
      "Tupiza :\n",
      "- Logement : Hostal Butch Cassidy\n",
      "\n",
      "⚠️ Ne sous-estimez pas l'altitude et prenez bien le temps de vous acclimater ! On a rencontré pas mal de voyageurs en PLS car ils étaient montés en altitude trop vite. \n",
      "💩 On avait été prévenus et on a essayé de faire attention mais rien n'y a fait : les intestins sont mis à rude épreuve en Bolivie ! \n",
      "COPACABANA\n",
      "📆 2 nuits : une avant de partir pour Isla del Sol et une en revenant\n",
      "🚌 Arrivée depuis Puno (Pérou) avec Transzela\n",
      "🏠 Hostal Florencia : 90 Bs/nuit ch. double, sdb commune, eau chaude, petit déj. Très calme, staff super sympa. \n",
      "💱Les taux de change des vendeurs près de la Plaza Sucre sont très intéressants pour changer des soles péruviens restants (1 PEN = 1,85 Bs)\n",
      "🏧 Il y a 2 ATMs autour de la Plaza Sucre : Banco Union et Banco Fie (sans frais avec Visa). \n",
      "🍽️ Manger une truite au kiosque n°12 \"Aries\" sur la plage, tout est à 30 Bs ; Jardin Boliviano, bonne nourriture, simple et pas cher. \n",
      "ISLA DEL SOL (Norte) \n",
      "📆 3J/2N avec arrivée à 11h au J1 et départ à 8h30 au J3.\n",
      "\n",
      "Rurrenabaque en Amazonie bolivienne\n",
      "Visiter l’Amazonie en Bolivie depuis Rurrenabaque\n",
      "\n",
      "Observation des singes hurleurs en Amazonie bolivienne\n",
      "Les paresseux en Amazonie\n",
      "Amazonie bolivienne drone\n",
      "Capybaras en Amazonie bolivienne\n",
      "Jungle amazonienne - singe\n",
      "Observation des oiseaux à Rurrenabaque en Bolivie\n",
      "Que voir en Bolivie pour les amoureux de la nature : la pampa bolivienne\n",
      "Caïman en Amazonie bolivienne\n",
      "Observation des oiseaux en Amazonie bolivienne\n",
      "3- Sucre : la ville coloniale à visiter absolument lors d’un voyage en Bolivie\n",
      "visiter Sucre en Bolivie - que faire en Bolivie\n",
      "Classée au patrimoine mondial de l’UNESCO, la ville coloniale de Sucre (que l’on appelle aussi la cité blanche), fait partie des points incontournables par lesquels passer dans le sud de la Bolivie.\n"
     ]
    }
   ],
   "source": [
    "# Concaténer le contenu des chunks récupérés\n",
    "context = \"\\n\\n\".join([doc.page_content for doc in docs])\n",
    "\n",
    "# Afficher le contenu concaténé\n",
    "print(\"Context concaténé :\\n\", context)"
   ]
  },
  {
   "cell_type": "code",
   "execution_count": 74,
   "metadata": {},
   "outputs": [
    {
     "name": "stdout",
     "output_type": "stream",
     "text": [
      "Réponse générée : content=\"Based on the provided context, here are the top places to visit in Bolivie:\\n\\n1. La Paz: Known for its chaotic organized streets, rich culture, and colonial architecture. You can visit the Valley of las ánimas, Pico Austria, marché del alto, marché des sorcières, and show de chulletas.\\n\\n2. Copacabana: You can visit the sommet El Calvario here.\\n\\n3. Isla del sol: You can take a tour guided until the temple of the sun and can do randonnée of 6 hours around the island in autonomy.\\n\\n4. Sajama: You can visit the Geysers, laguna Huyana Cotta, thermes Huari.\\n\\n5. Torotoro: Known for Spéléologie, ciudad de itas, canyon, baignade cascade, traces dinosaures, rappel dans cascade Chiflon.\\n\\n6. Sucre: Known for its colonial architecture, you can do food tour, horse riding here.\\n\\n7. Amazonie: You can visit the pampa or selva bolivienne for wildlife observation.\\n\\n8. Salar d'Uyuni and the sud Lipez: Known for providing one of the most extraordinary experiences in Bolivia with its unique landscapes.\\n\\n9. The lake Titicaca: It is one of the highest navigable lakes in the world and is home to Isla del Sol.\\n\\nPlease note that these are just a few of the many incredible places to visit in Bolivie.\" additional_kwargs={} response_metadata={'token_usage': {'prompt_tokens': 5194, 'total_tokens': 5545, 'completion_tokens': 351}, 'model': 'mistral-small', 'finish_reason': 'stop'} id='run-6a01b1b3-4dc8-44e3-a26c-2ff1bab5641f-0' usage_metadata={'input_tokens': 5194, 'output_tokens': 351, 'total_tokens': 5545}\n"
     ]
    }
   ],
   "source": [
    "from langchain_mistralai.chat_models import ChatMistralAI\n",
    "from langchain_core.prompts import ChatPromptTemplate\n",
    "\n",
    "# Définir le modèle Mistral\n",
    "model = ChatMistralAI(mistral_api_key=api_key)\n",
    "\n",
    "# Définir un template pour poser la question avec le contexte concaténé\n",
    "prompt = ChatPromptTemplate.from_template(\"\"\"\n",
    "Answer the following question based on the provided context:\n",
    "\n",
    "<context>\n",
    "{context}\n",
    "</context>\n",
    "\n",
    "Question: {input}\n",
    "\"\"\")\n",
    "\n",
    "# Créer le message avec le contexte concaténé et la question\n",
    "question = \"Quels sont les meilleurs endroits à visiter en Bolivie ?\"\n",
    "prompt_text = prompt.format(context=context, input=question)\n",
    "\n",
    "# Envoyer la requête au modèle Mistral pour générer la réponse\n",
    "response = model.invoke(prompt_text)\n",
    "print(\"Réponse générée :\", response)\n",
    "\n"
   ]
  }
 ],
 "metadata": {
  "kernelspec": {
   "display_name": "myvirtualenv",
   "language": "python",
   "name": "python3"
  },
  "language_info": {
   "codemirror_mode": {
    "name": "ipython",
    "version": 3
   },
   "file_extension": ".py",
   "mimetype": "text/x-python",
   "name": "python",
   "nbconvert_exporter": "python",
   "pygments_lexer": "ipython3",
   "version": "3.12.5"
  }
 },
 "nbformat": 4,
 "nbformat_minor": 2
}
